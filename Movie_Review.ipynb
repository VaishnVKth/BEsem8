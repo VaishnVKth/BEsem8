{
 "cells": [
  {
   "cell_type": "code",
   "execution_count": 1,
   "id": "0ed2df02",
   "metadata": {},
   "outputs": [],
   "source": [
    "import numpy as np\n",
    "from tensorflow.keras.datasets import imdb\n",
    "from tensorflow.keras.models import Sequential\n",
    "from tensorflow.keras.layers import Dense, LSTM, Embedding, SpatialDropout1D\n",
    "from tensorflow.keras.preprocessing.sequence import pad_sequences\n",
    "from tensorflow.keras.preprocessing.text import Tokenizer  # Import Tokenizer\n",
    "import time"
   ]
  },
  {
   "cell_type": "code",
   "execution_count": 2,
   "id": "36a9cf18",
   "metadata": {},
   "outputs": [],
   "source": [
    "# Load the IMDB dataset\n",
    "max_features = 5000\n",
    "maxlen = 100\n",
    "(X_train, y_train), (X_test, y_test) = imdb.load_data(num_words=max_features)\n"
   ]
  },
  {
   "cell_type": "code",
   "execution_count": 3,
   "id": "2a377993",
   "metadata": {},
   "outputs": [],
   "source": [
    "# Preprocess the data\n",
    "X_train = pad_sequences(X_train, maxlen=maxlen)\n",
    "X_test = pad_sequences(X_test, maxlen=maxlen)"
   ]
  },
  {
   "cell_type": "code",
   "execution_count": 4,
   "id": "59f95de1",
   "metadata": {},
   "outputs": [],
   "source": [
    "# Convert sequences back into text\n",
    "reverse_word_index = dict([(value, key) for (key, value) in imdb.get_word_index().items()])\n",
    "def decode_review(text):\n",
    "    return ' '.join([reverse_word_index.get(i - 3, '?') for i in text])\n",
    "\n",
    "X_train_text = [decode_review(x) for x in X_train]\n",
    "X_test_text = [decode_review(x) for x in X_test]\n",
    "\n",
    "# Create and fit tokenizer\n",
    "tokenizer = Tokenizer(num_words=max_features)\n",
    "tokenizer.fit_on_texts(X_train_text)\n",
    "\n",
    "# Preprocess the data\n",
    "X_train = pad_sequences(tokenizer.texts_to_sequences(X_train_text), maxlen=maxlen)\n",
    "X_test = pad_sequences(tokenizer.texts_to_sequences(X_test_text), maxlen=maxlen)"
   ]
  },
  {
   "cell_type": "code",
   "execution_count": 5,
   "id": "4cd8ccc4",
   "metadata": {},
   "outputs": [],
   "source": [
    "# Create and fit tokenizer\n",
    "#tokenizer = Tokenizer(num_words=max_features)\n",
    "#tokenizer.fit_on_texts(X_train)\n"
   ]
  },
  {
   "cell_type": "code",
   "execution_count": 6,
   "id": "f5769332",
   "metadata": {},
   "outputs": [],
   "source": [
    "# Build the model\n",
    "model = Sequential()\n",
    "model.add(Embedding(max_features, 128, input_length=maxlen))\n",
    "model.add(SpatialDropout1D(0.2))\n",
    "model.add(LSTM(64, dropout=0.2, recurrent_dropout=0.2))\n",
    "model.add(Dense(1, activation='sigmoid'))\n"
   ]
  },
  {
   "cell_type": "code",
   "execution_count": 7,
   "id": "a5c562a3",
   "metadata": {},
   "outputs": [],
   "source": [
    "model.compile(loss='binary_crossentropy', optimizer='adam', metrics=['accuracy'])\n"
   ]
  },
  {
   "cell_type": "code",
   "execution_count": 8,
   "id": "bca2b7a7",
   "metadata": {},
   "outputs": [],
   "source": [
    "# Train the model\n",
    "batch_size = 32\n",
    "epochs = 5\n",
    "#model.fit(X_train, y_train, validation_data=(X_test, y_test), epochs=epochs, batch_size=batch_size)"
   ]
  },
  {
   "cell_type": "code",
   "execution_count": null,
   "id": "27577a7c",
   "metadata": {},
   "outputs": [
    {
     "name": "stdout",
     "output_type": "stream",
     "text": [
      "Epoch 1/5\n",
      "782/782 [==============================] - 290s 360ms/step - loss: 0.4223 - accuracy: 0.8049 - val_loss: 0.3494 - val_accuracy: 0.8446\n",
      "Epoch 2/5\n",
      "554/782 [====================>.........] - ETA: 58s - loss: 0.2975 - accuracy: 0.8778"
     ]
    }
   ],
   "source": [
    "start_time = time.time()\n",
    "model.fit(X_train, y_train, validation_data=(X_test, y_test), epochs=epochs, batch_size=batch_size)\n",
    "training_time = time.time() - start_time\n"
   ]
  },
  {
   "cell_type": "code",
   "execution_count": null,
   "id": "f213e828",
   "metadata": {},
   "outputs": [],
   "source": []
  },
  {
   "cell_type": "code",
   "execution_count": null,
   "id": "52e4be46",
   "metadata": {},
   "outputs": [],
   "source": [
    "# Evaluate the model\n",
    "start_time = time.time()\n",
    "\n",
    "score, acc = model.evaluate(X_test, y_test, batch_size=batch_size)\n",
    "prediction_time = time.time() - start_time\n",
    "\n",
    "print(\"Test accuracy:\", acc)"
   ]
  },
  {
   "cell_type": "code",
   "execution_count": null,
   "id": "7a82308a",
   "metadata": {},
   "outputs": [],
   "source": [
    "#print(\"Test accuracy:\", acc)\n",
    "#print(\"Training time:\", training_time, \"seconds\")\n",
    "#print(\"Prediction time:\", prediction_time, \"seconds\")"
   ]
  },
  {
   "cell_type": "code",
   "execution_count": null,
   "id": "b6da2656",
   "metadata": {},
   "outputs": [],
   "source": [
    "# Function to preprocess user input\n",
    "def preprocess_input(user_input):\n",
    "    from tensorflow.keras.preprocessing.sequence import pad_sequences\n",
    "    sequences = tokenizer.texts_to_sequences(user_input)\n",
    "    return pad_sequences(sequences, maxlen=maxlen)\n",
    "   \n",
    "#from tensorflow.keras.preprocessing.text import Tokenizer\n",
    "    #tokenizer = Tokenizer(num_words=max_features)\n",
    "    #tokenizer.fit_on_texts(user_input)\n",
    "    #sequences = tokenizer.texts_to_sequences(user_input)\n",
    "    #return pad_sequences(sequences, maxlen=maxlen)"
   ]
  },
  {
   "cell_type": "code",
   "execution_count": null,
   "id": "5c6fc8cf",
   "metadata": {},
   "outputs": [],
   "source": [
    "# Function to predict sentiment\n",
    "def predict_sentiment(review):\n",
    "    review = preprocess_input([review])\n",
    "    prediction = model.predict(review)[0][0]\n",
    "    if prediction >= 0.5:\n",
    "        return \"Positive\"\n",
    "    else:\n",
    "        return \"Negative\""
   ]
  },
  {
   "cell_type": "code",
   "execution_count": null,
   "id": "06a57183",
   "metadata": {},
   "outputs": [],
   "source": [
    "# User Interface\n",
    "print(\"Welcome to Movie Review Sentiment Analyzer!\")"
   ]
  },
  {
   "cell_type": "code",
   "execution_count": null,
   "id": "fdc3962d",
   "metadata": {},
   "outputs": [],
   "source": [
    "while True:\n",
    "    user_review = input(\"Enter your movie review (or type 'quit' to exit): \")\n",
    "    if user_review.lower() == 'quit':\n",
    "        print(\"Thank you for using our service!\")\n",
    "        break\n",
    "    else:\n",
    "        sentiment = predict_sentiment(user_review)\n",
    "        print(\"Predicted sentiment:\", sentiment)"
   ]
  },
  {
   "cell_type": "code",
   "execution_count": 16,
   "id": "465c2c03",
   "metadata": {},
   "outputs": [
    {
     "name": "stdout",
     "output_type": "stream",
     "text": [
      "Test accuracy: 0.8469600081443787\n",
      "Training time: 758.8439946174622 seconds\n",
      "Prediction time: 19.827228784561157 seconds\n"
     ]
    }
   ],
   "source": [
    "print(\"Test accuracy:\", acc)\n",
    "print(\"Training time:\", training_time, \"seconds\")\n",
    "print(\"Prediction time:\", prediction_time, \"seconds\")\n"
   ]
  },
  {
   "cell_type": "code",
   "execution_count": null,
   "id": "7c04fd50",
   "metadata": {},
   "outputs": [],
   "source": []
  }
 ],
 "metadata": {
  "kernelspec": {
   "display_name": "Python 3 (ipykernel)",
   "language": "python",
   "name": "python3"
  },
  "language_info": {
   "codemirror_mode": {
    "name": "ipython",
    "version": 3
   },
   "file_extension": ".py",
   "mimetype": "text/x-python",
   "name": "python",
   "nbconvert_exporter": "python",
   "pygments_lexer": "ipython3",
   "version": "3.9.13"
  }
 },
 "nbformat": 4,
 "nbformat_minor": 5
}
